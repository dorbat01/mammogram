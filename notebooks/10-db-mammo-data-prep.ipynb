{
 "cells": [
  {
   "cell_type": "markdown",
   "metadata": {},
   "source": [
    "## Let's begin: prepare your data\n",
    "\n",
    "Start by importing the mammographic_masses.data.txt file into a Pandas dataframe (hint: use read_csv) and take a look at it."
   ]
  },
  {
   "cell_type": "code",
   "execution_count": 1,
   "metadata": {},
   "outputs": [],
   "source": [
    "import pandas as pd"
   ]
  },
  {
   "cell_type": "code",
   "execution_count": 2,
   "metadata": {},
   "outputs": [],
   "source": [
    "%load_ext autoreload\n",
    "%autoreload 2"
   ]
  },
  {
   "cell_type": "code",
   "execution_count": 3,
   "metadata": {},
   "outputs": [],
   "source": [
    "import logging\n",
    "from src.logging import logger\n",
    "logger.setLevel(logging.DEBUG)"
   ]
  },
  {
   "cell_type": "code",
   "execution_count": 4,
   "metadata": {},
   "outputs": [],
   "source": [
    "dataset_name='mammographic'"
   ]
  },
  {
   "cell_type": "code",
   "execution_count": 5,
   "metadata": {},
   "outputs": [],
   "source": [
    "from src.paths import raw_data_path, interim_data_path, processed_data_path\n"
   ]
  },
  {
   "cell_type": "code",
   "execution_count": 6,
   "metadata": {},
   "outputs": [],
   "source": [
    "from src.data import RawDataset\n",
    "mammo_data = RawDataset(dataset_name)\n",
    "mammo_data.add_url(url=\"https://archive.ics.uci.edu/ml/machine-learning-databases/mammographic-masses/mammographic_masses.data\")"
   ]
  },
  {
   "cell_type": "code",
   "execution_count": 7,
   "metadata": {},
   "outputs": [],
   "source": [
    "mammo_data.add_url(url='https://archive.ics.uci.edu/ml/machine-learning-databases/mammographic-masses/mammographic_masses.names',\n",
    "                file_name=f'{dataset_name}.readme',\n",
    "                name='DESCR')"
   ]
  },
  {
   "cell_type": "markdown",
   "metadata": {
    "collapsed": true
   },
   "source": [
    "Next you'll need to convert the Pandas dataframes into numpy arrays that can be used by scikit_learn. Create an array that extracts only the feature data we want to work with (age, shape, margin, and density) and another array that contains the classes (severity). You'll also need an array of the feature name labels."
   ]
  },
  {
   "cell_type": "markdown",
   "metadata": {},
   "source": [
    "Some of our models require the input data to be normalized, so go ahead and normalize the attribute data. Hint: use preprocessing.StandardScaler()."
   ]
  },
  {
   "cell_type": "code",
   "execution_count": 8,
   "metadata": {},
   "outputs": [],
   "source": [
    "from src import workflow\n",
    "from src.data.localdata import process_csv\n",
    "mammo_data.load_function = process_csv"
   ]
  },
  {
   "cell_type": "code",
   "execution_count": 9,
   "metadata": {},
   "outputs": [
    {
     "name": "stderr",
     "output_type": "stream",
     "text": [
      "2018-11-17 13:23:36,575 - datasets - WARNING - No dataset file found: raw_datasets.json\n",
      "2018-11-17 13:23:36,578 - fetch - DEBUG - No file_name specified. Inferring mammographic_masses.data from URL\n",
      "2018-11-17 13:23:36,580 - fetch - DEBUG - mammographic_masses.data exists, but no hash to check. Setting to sha1:5cfd64b52520391fb1f2d2d5d115d10c8c862046\n",
      "2018-11-17 13:23:36,582 - fetch - DEBUG - mammographic.readme exists, but no hash to check. Setting to sha1:d8f3a7c205397d619eadfecf990dd84380115325\n",
      "2018-11-17 13:23:36,583 - fetch - DEBUG - Copying mammographic_masses.data\n",
      "2018-11-17 13:23:36,585 - fetch - DEBUG - Copying mammographic.readme\n",
      "2018-11-17 13:23:36,588 - localdata - DEBUG - load_csv()-->loading csv file=/Users/mei/Documents/courses/bbconf/mammogram/data/interim/mammographic/mammographic_masses.data ...\n",
      "2018-11-17 13:23:36,599 - datasets - DEBUG - Wrote Dataset Metadata: 252508f3d18124f88fc1204c8d0cb9c439dd032f.metadata\n",
      "2018-11-17 13:23:36,601 - datasets - DEBUG - Wrote Dataset: 252508f3d18124f88fc1204c8d0cb9c439dd032f.dataset\n"
     ]
    },
    {
     "name": "stdout",
     "output_type": "stream",
     "text": [
      "<Dataset: mammographic, data.shape=(830, 4), target.shape=(830,), metadata=['descr', 'dataset_name', 'hash_type', 'data_hash', 'target_hash']>\n"
     ]
    }
   ],
   "source": [
    "from src.data import Dataset\n",
    "workflow.add_raw_dataset(mammo_data)\n",
    "mammo_df = Dataset.from_raw(dataset_name, force=True)\n",
    "print(str(mammo_df))"
   ]
  },
  {
   "cell_type": "code",
   "execution_count": 10,
   "metadata": {},
   "outputs": [
    {
     "data": {
      "text/plain": [
       "[{'raw_dataset_name': 'mammographic',\n",
       "  'transformations': [['train_test_split',\n",
       "    {'random_state': 1, 'test_size': 0.25}]]}]"
      ]
     },
     "execution_count": 10,
     "metadata": {},
     "output_type": "execute_result"
    }
   ],
   "source": [
    "workflow.available_datasets()\n",
    "workflow.get_transformer_list()"
   ]
  },
  {
   "cell_type": "code",
   "execution_count": 11,
   "metadata": {},
   "outputs": [
    {
     "data": {
      "text/plain": [
       "['index_to_date_time', 'pivot', 'train_test_split']"
      ]
     },
     "execution_count": 11,
     "metadata": {},
     "output_type": "execute_result"
    }
   ],
   "source": [
    "workflow.available_transformers()"
   ]
  },
  {
   "cell_type": "code",
   "execution_count": 12,
   "metadata": {},
   "outputs": [],
   "source": [
    "transform_pipeline = [(\"train_test_split\", {'random_state':1, 'test_size':0.25})]\n",
    "workflow.add_transformer(from_raw=dataset_name,\n",
    "                         suppress_output=True,\n",
    "                         transformations=transform_pipeline)"
   ]
  },
  {
   "cell_type": "code",
   "execution_count": 13,
   "metadata": {},
   "outputs": [
    {
     "name": "stderr",
     "output_type": "stream",
     "text": [
      "2018-11-17 13:23:36,843 - transform_data - DEBUG - Creating Dataset from Raw: mammographic with opts {}\n",
      "2018-11-17 13:23:36,844 - datasets - DEBUG - process() called before unpack()\n",
      "2018-11-17 13:23:36,845 - datasets - DEBUG - unpack() called before fetch()\n",
      "2018-11-17 13:23:36,845 - fetch - DEBUG - No file_name specified. Inferring mammographic_masses.data from URL\n",
      "2018-11-17 13:23:36,848 - fetch - DEBUG - mammographic_masses.data exists, but no hash to check. Setting to sha1:5cfd64b52520391fb1f2d2d5d115d10c8c862046\n",
      "2018-11-17 13:23:36,850 - fetch - DEBUG - mammographic.readme exists, but no hash to check. Setting to sha1:d8f3a7c205397d619eadfecf990dd84380115325\n",
      "2018-11-17 13:23:36,852 - fetch - DEBUG - Copying mammographic_masses.data\n",
      "2018-11-17 13:23:36,854 - fetch - DEBUG - Copying mammographic.readme\n",
      "2018-11-17 13:23:36,859 - datasets - DEBUG - Found cached Dataset for mammographic: 252508f3d18124f88fc1204c8d0cb9c439dd032f\n",
      "2018-11-17 13:23:36,859 - transform_data - DEBUG - Applying train_test_split to mammographic with opts {'random_state': 1, 'test_size': 0.25}\n",
      "2018-11-17 13:23:36,862 - transformers - INFO - Writing Transformed Dataset: mammographic_train\n",
      "2018-11-17 13:23:36,865 - datasets - DEBUG - Wrote Dataset Metadata: mammographic_train.metadata\n",
      "2018-11-17 13:23:36,868 - datasets - DEBUG - Wrote Dataset: mammographic_train.dataset\n",
      "2018-11-17 13:23:36,869 - transformers - INFO - Writing Transformed Dataset: mammographic_test\n",
      "2018-11-17 13:23:36,871 - datasets - DEBUG - Wrote Dataset Metadata: mammographic_test.metadata\n",
      "2018-11-17 13:23:36,874 - datasets - DEBUG - Wrote Dataset: mammographic_test.dataset\n",
      "2018-11-17 13:23:36,875 - transform_data - DEBUG - Creating Dataset from Raw: mammographic with opts {}\n",
      "2018-11-17 13:23:36,877 - datasets - DEBUG - process() called before unpack()\n",
      "2018-11-17 13:23:36,878 - datasets - DEBUG - unpack() called before fetch()\n",
      "2018-11-17 13:23:36,879 - fetch - DEBUG - No file_name specified. Inferring mammographic_masses.data from URL\n",
      "2018-11-17 13:23:36,881 - fetch - DEBUG - mammographic_masses.data exists, but no hash to check. Setting to sha1:5cfd64b52520391fb1f2d2d5d115d10c8c862046\n",
      "2018-11-17 13:23:36,884 - fetch - DEBUG - mammographic.readme exists, but no hash to check. Setting to sha1:d8f3a7c205397d619eadfecf990dd84380115325\n",
      "2018-11-17 13:23:36,886 - fetch - DEBUG - Copying mammographic_masses.data\n",
      "2018-11-17 13:23:36,889 - fetch - DEBUG - Copying mammographic.readme\n",
      "2018-11-17 13:23:36,893 - datasets - DEBUG - Found cached Dataset for mammographic: 252508f3d18124f88fc1204c8d0cb9c439dd032f\n",
      "2018-11-17 13:23:36,894 - transform_data - DEBUG - Applying train_test_split to mammographic with opts {'random_state': 1, 'test_size': 0.25}\n",
      "2018-11-17 13:23:36,896 - transformers - INFO - Writing Transformed Dataset: mammographic_train\n",
      "2018-11-17 13:23:36,900 - datasets - DEBUG - Wrote Dataset Metadata: mammographic_train.metadata\n",
      "2018-11-17 13:23:36,903 - datasets - DEBUG - Wrote Dataset: mammographic_train.dataset\n",
      "2018-11-17 13:23:36,903 - transformers - INFO - Writing Transformed Dataset: mammographic_test\n",
      "2018-11-17 13:23:36,907 - datasets - DEBUG - Wrote Dataset Metadata: mammographic_test.metadata\n",
      "2018-11-17 13:23:36,910 - datasets - DEBUG - Wrote Dataset: mammographic_test.dataset\n"
     ]
    }
   ],
   "source": [
    "workflow.make_data()\n",
    "logger.setLevel(logging.DEBUG)"
   ]
  },
  {
   "cell_type": "code",
   "execution_count": 14,
   "metadata": {},
   "outputs": [
    {
     "data": {
      "text/plain": [
       "array([[ 0.7650629 ,  0.17563638,  1.39618483,  0.24046607],\n",
       "       [ 0.15127063,  0.98104077,  1.39618483,  0.24046607],\n",
       "       [-1.89470363, -1.43517241, -1.157718  ,  0.24046607],\n",
       "       ...,\n",
       "       [ 0.56046548,  0.98104077,  1.39618483,  0.24046607],\n",
       "       [ 0.69686376,  0.98104077,  1.39618483,  0.24046607],\n",
       "       [ 0.42406719,  0.17563638,  0.11923341,  0.24046607]])"
      ]
     },
     "execution_count": 14,
     "metadata": {},
     "output_type": "execute_result"
    }
   ],
   "source": [
    "mammo_df.data"
   ]
  },
  {
   "cell_type": "code",
   "execution_count": 15,
   "metadata": {},
   "outputs": [
    {
     "data": {
      "text/plain": [
       "['mammographic_test', 'mammographic_train']"
      ]
     },
     "execution_count": 15,
     "metadata": {},
     "output_type": "execute_result"
    }
   ],
   "source": [
    "workflow.available_datasets()"
   ]
  },
  {
   "cell_type": "code",
   "execution_count": 16,
   "metadata": {},
   "outputs": [],
   "source": [
    "ds_train = Dataset.load('mammographic_train')"
   ]
  },
  {
   "cell_type": "code",
   "execution_count": 17,
   "metadata": {},
   "outputs": [
    {
     "data": {
      "text/plain": [
       "(622, 4)"
      ]
     },
     "execution_count": 17,
     "metadata": {},
     "output_type": "execute_result"
    }
   ],
   "source": [
    "ds_train.data.shape"
   ]
  },
  {
   "cell_type": "code",
   "execution_count": 18,
   "metadata": {},
   "outputs": [
    {
     "data": {
      "text/plain": [
       "array([1, 0, 0, 1, 1, 1, 0, 1, 1, 1, 0, 1, 1, 0, 1, 0, 0, 1, 1, 1, 0, 0,\n",
       "       0, 1, 0, 0, 0, 1, 0, 1, 0, 0, 1, 1, 1, 0, 0, 0, 1, 1, 1, 0, 1, 1,\n",
       "       1, 0, 1, 0, 1, 1, 1, 1, 0, 0, 1, 1, 1, 0, 1, 0, 1, 0, 1, 0, 0, 0,\n",
       "       0, 0, 0, 0, 1, 1, 1, 0, 0, 1, 0, 1, 1, 1, 1, 1, 1, 0, 0, 0, 0, 1,\n",
       "       1, 0, 1, 0, 1, 0, 0, 1, 1, 0, 1, 1, 0, 0, 1, 1, 1, 0, 1, 0, 1, 1,\n",
       "       0, 1, 0, 0, 0, 1, 1, 0, 0, 0, 0, 1, 1, 0, 0, 1, 0, 1, 0, 0, 1, 0,\n",
       "       0, 1, 1, 1, 1, 0, 1, 0, 1, 0, 0, 0, 0, 0, 1, 0, 1, 0, 0, 1, 0, 0,\n",
       "       1, 0, 0, 0, 1, 0, 0, 0, 1, 1, 0, 0, 0, 1, 0, 1, 0, 1, 0, 0, 0, 1,\n",
       "       0, 1, 0, 1, 0, 1, 0, 0, 0, 1, 0, 0, 1, 1, 1, 0, 0, 1, 1, 1, 1, 0,\n",
       "       1, 0, 0, 1, 0, 0, 1, 1, 1, 1, 1, 1, 1, 1, 0, 1, 0, 1, 0, 1, 0, 0,\n",
       "       0, 0, 0, 1, 0, 1, 1, 1, 1, 0, 1, 0, 0, 1, 1, 0, 1, 1, 1, 1, 1, 0,\n",
       "       0, 1, 0, 1, 1, 1, 0, 0, 1, 1, 0, 1, 1, 0, 0, 1, 1, 1, 1, 1, 0, 0,\n",
       "       1, 1, 0, 0, 1, 0, 0, 1, 1, 1, 0, 0, 0, 0, 0, 0, 0, 0, 1, 0, 1, 0,\n",
       "       1, 1, 1, 1, 0, 0, 0, 1, 1, 0, 0, 1, 1, 0, 0, 0, 1, 0, 0, 0, 1, 1,\n",
       "       0, 1, 1, 0, 0, 1, 1, 1, 0, 1, 1, 0, 0, 1, 1, 0, 0, 1, 0, 0, 1, 1,\n",
       "       1, 1, 1, 0, 1, 0, 0, 1, 0, 1, 1, 0, 0, 1, 0, 1, 0, 1, 0, 1, 1, 1,\n",
       "       1, 1, 0, 0, 1, 0, 1, 0, 1, 1, 0, 0, 1, 0, 1, 1, 0, 1, 1, 1, 1, 0,\n",
       "       0, 1, 1, 0, 1, 0, 0, 0, 1, 0, 1, 0, 0, 1, 0, 1, 1, 0, 1, 1, 0, 0,\n",
       "       0, 1, 1, 1, 0, 1, 1, 1, 1, 0, 1, 1, 1, 1, 0, 0, 0, 0, 0, 1, 0, 0,\n",
       "       0, 0, 0, 1, 1, 1, 1, 0, 1, 1, 0, 1, 1, 0, 1, 0, 0, 0, 1, 0, 1, 0,\n",
       "       1, 1, 0, 1, 1, 1, 1, 0, 0, 0, 1, 1, 0, 1, 1, 0, 1, 0, 0, 1, 1, 0,\n",
       "       0, 0, 1, 1, 0, 1, 1, 1, 0, 0, 0, 1, 1, 1, 1, 1, 0, 1, 1, 0, 1, 1,\n",
       "       0, 1, 0, 0, 1, 0, 1, 1, 1, 0, 1, 1, 0, 1, 1, 0, 1, 0, 1, 0, 0, 0,\n",
       "       1, 1, 1, 1, 0, 0, 0, 1, 0, 0, 0, 0, 0, 0, 0, 0, 1, 1, 0, 1, 0, 1,\n",
       "       1, 1, 0, 0, 1, 0, 1, 0, 1, 1, 0, 0, 0, 1, 1, 1, 0, 0, 1, 0, 0, 0,\n",
       "       0, 0, 0, 1, 1, 0, 0, 1, 0, 1, 0, 1, 0, 1, 1, 1, 0, 0, 0, 1, 0, 1,\n",
       "       0, 1, 1, 0, 0, 0, 1, 0, 1, 0, 0, 1, 1, 0, 0, 1, 0, 1, 0, 1, 0, 0,\n",
       "       1, 1, 0, 0, 1, 1, 0, 1, 0, 0, 0, 0, 1, 1, 0, 0, 1, 1, 1, 0, 1, 0,\n",
       "       0, 0, 1, 0, 0, 1])"
      ]
     },
     "execution_count": 18,
     "metadata": {},
     "output_type": "execute_result"
    }
   ],
   "source": [
    "ds_train.target"
   ]
  },
  {
   "cell_type": "code",
   "execution_count": 19,
   "metadata": {},
   "outputs": [],
   "source": [
    "ds_test = Dataset.load('mammographic_test')"
   ]
  },
  {
   "cell_type": "code",
   "execution_count": 20,
   "metadata": {},
   "outputs": [
    {
     "data": {
      "text/plain": [
       "(208, 4)"
      ]
     },
     "execution_count": 20,
     "metadata": {},
     "output_type": "execute_result"
    }
   ],
   "source": [
    "ds_test.data.shape"
   ]
  },
  {
   "cell_type": "markdown",
   "metadata": {},
   "source": [
    "add the **Linear Support Vector Classifier** from scikit-learn."
   ]
  },
  {
   "cell_type": "code",
   "execution_count": 21,
   "metadata": {},
   "outputs": [],
   "source": [
    "from sklearn.svm import LinearSVC"
   ]
  },
  {
   "cell_type": "code",
   "execution_count": 22,
   "metadata": {},
   "outputs": [],
   "source": [
    "model = LinearSVC(random_state=42)"
   ]
  },
  {
   "cell_type": "code",
   "execution_count": 23,
   "metadata": {},
   "outputs": [
    {
     "data": {
      "text/plain": [
       "LinearSVC(C=1.0, class_weight=None, dual=True, fit_intercept=True,\n",
       "     intercept_scaling=1, loss='squared_hinge', max_iter=1000,\n",
       "     multi_class='ovr', penalty='l2', random_state=42, tol=0.0001,\n",
       "     verbose=0)"
      ]
     },
     "execution_count": 23,
     "metadata": {},
     "output_type": "execute_result"
    }
   ],
   "source": [
    "model.fit(ds_train.data, ds_train.target)"
   ]
  },
  {
   "cell_type": "code",
   "execution_count": 24,
   "metadata": {},
   "outputs": [
    {
     "data": {
      "text/plain": [
       "LinearSVC(C=1.0, class_weight=None, dual=True, fit_intercept=True,\n",
       "     intercept_scaling=1, loss='squared_hinge', max_iter=200000,\n",
       "     multi_class='ovr', penalty='l2', random_state=42, tol=0.0001,\n",
       "     verbose=0)"
      ]
     },
     "execution_count": 24,
     "metadata": {},
     "output_type": "execute_result"
    }
   ],
   "source": [
    "model = LinearSVC(random_state=42, max_iter=200000)\n",
    "model.fit(ds_train.data, ds_train.target)"
   ]
  },
  {
   "cell_type": "markdown",
   "metadata": {},
   "source": [
    "### Use the model to predict phoneme classes"
   ]
  },
  {
   "cell_type": "code",
   "execution_count": 25,
   "metadata": {},
   "outputs": [
    {
     "data": {
      "text/plain": [
       "array([0, 0, 1, 0, 1, 0, 0, 1, 0, 1, 0, 1, 1, 1, 0, 0, 0, 1, 0, 1])"
      ]
     },
     "execution_count": 25,
     "metadata": {},
     "output_type": "execute_result"
    }
   ],
   "source": [
    "lsvc_prediction = model.predict(ds_test.data);\n",
    "lsvc_prediction[:20]"
   ]
  },
  {
   "cell_type": "code",
   "execution_count": 26,
   "metadata": {},
   "outputs": [
    {
     "data": {
      "text/plain": [
       "0.7740384615384616"
      ]
     },
     "execution_count": 26,
     "metadata": {},
     "output_type": "execute_result"
    }
   ],
   "source": [
    "model.score(ds_test.data, ds_test.target)"
   ]
  },
  {
   "cell_type": "code",
   "execution_count": 27,
   "metadata": {},
   "outputs": [],
   "source": [
    "from sklearn.metrics import accuracy_score"
   ]
  },
  {
   "cell_type": "code",
   "execution_count": 28,
   "metadata": {},
   "outputs": [
    {
     "data": {
      "text/plain": [
       "0.7740384615384616"
      ]
     },
     "execution_count": 28,
     "metadata": {},
     "output_type": "execute_result"
    }
   ],
   "source": [
    "accuracy_score(ds_test.target, lsvc_prediction)"
   ]
  },
  {
   "cell_type": "markdown",
   "metadata": {},
   "source": [
    "### Train Models\n"
   ]
  },
  {
   "cell_type": "code",
   "execution_count": 29,
   "metadata": {},
   "outputs": [
    {
     "data": {
      "text/plain": [
       "['linearSVC',\n",
       " 'gradientBoostingClassifier',\n",
       " 'randomForestClassifier',\n",
       " 'logisticRegression']"
      ]
     },
     "execution_count": 29,
     "metadata": {},
     "output_type": "execute_result"
    }
   ],
   "source": [
    "workflow.available_algorithms()"
   ]
  },
  {
   "cell_type": "code",
   "execution_count": 30,
   "metadata": {},
   "outputs": [],
   "source": [
    "workflow.add_model(dataset_name='mammographic_train',\n",
    "                   algorithm_name=\"linearSVC\",\n",
    "                   algorithm_params={'random_state': 42, 'max_iter': 200000})"
   ]
  },
  {
   "cell_type": "code",
   "execution_count": 31,
   "metadata": {},
   "outputs": [],
   "source": [
    "workflow.add_model(\n",
    "    dataset_name = 'mammographic_train',\n",
    "    algorithm_name = 'gradientBoostingClassifier',\n",
    "    algorithm_params = {'random_state': 42}    \n",
    ")"
   ]
  },
  {
   "cell_type": "code",
   "execution_count": 32,
   "metadata": {},
   "outputs": [],
   "source": [
    "workflow.add_model(\n",
    "    dataset_name = 'mammographic_train',\n",
    "    algorithm_name = 'randomForestClassifier',\n",
    "    algorithm_params = {'random_state': 42, 'n_estimators': 10}  \n",
    ")"
   ]
  },
  {
   "cell_type": "code",
   "execution_count": 33,
   "metadata": {},
   "outputs": [
    {
     "data": {
      "text/plain": [
       "[{'algorithm_name': 'linearSVC',\n",
       "  'algorithm_params': {'max_iter': 200000, 'random_state': 42},\n",
       "  'dataset_name': 'mammographic_train',\n",
       "  'run_number': 1},\n",
       " {'algorithm_name': 'gradientBoostingClassifier',\n",
       "  'algorithm_params': {'random_state': 42},\n",
       "  'dataset_name': 'mammographic_train',\n",
       "  'run_number': 1},\n",
       " {'algorithm_name': 'randomForestClassifier',\n",
       "  'algorithm_params': {'n_estimators': 10, 'random_state': 42},\n",
       "  'dataset_name': 'mammographic_train',\n",
       "  'run_number': 1}]"
      ]
     },
     "execution_count": 33,
     "metadata": {},
     "output_type": "execute_result"
    }
   ],
   "source": [
    "workflow.get_model_list()"
   ]
  },
  {
   "cell_type": "code",
   "execution_count": 34,
   "metadata": {},
   "outputs": [
    {
     "name": "stderr",
     "output_type": "stream",
     "text": [
      "2018-11-17 13:23:38,096 - model_list - INFO - Creating model: linearSVC_mammographic_train_1\n",
      "2018-11-17 13:23:38,125 - utils - DEBUG - PROCESS_TIME:                         train_model    25.5 ms\n",
      "2018-11-17 13:23:38,130 - model_list - INFO - Creating model: linearSVC_mammographic_train_1\n",
      "2018-11-17 13:23:38,161 - utils - DEBUG - PROCESS_TIME:                         train_model    27.3 ms\n",
      "2018-11-17 13:23:38,165 - model_list - INFO - Creating model: gradientBoostingClassifier_mammographic_train_1\n",
      "2018-11-17 13:23:38,258 - utils - DEBUG - PROCESS_TIME:                         train_model    89.6 ms\n",
      "2018-11-17 13:23:38,375 - model_list - INFO - Creating model: linearSVC_mammographic_train_1\n",
      "2018-11-17 13:23:38,404 - utils - DEBUG - PROCESS_TIME:                         train_model    25.8 ms\n",
      "2018-11-17 13:23:38,408 - model_list - INFO - Creating model: gradientBoostingClassifier_mammographic_train_1\n",
      "2018-11-17 13:23:38,498 - utils - DEBUG - PROCESS_TIME:                         train_model    88.4 ms\n",
      "2018-11-17 13:23:38,651 - model_list - INFO - Creating model: randomForestClassifier_mammographic_train_1\n",
      "2018-11-17 13:23:38,667 - utils - DEBUG - PROCESS_TIME:                         train_model    13.1 ms\n"
     ]
    },
    {
     "data": {
      "text/plain": [
       "{'linearSVC_mammographic_train_1': {'algorithm_name': 'linearSVC',\n",
       "  'algorithm_params': {'C': 1.0,\n",
       "   'class_weight': None,\n",
       "   'dual': True,\n",
       "   'fit_intercept': True,\n",
       "   'intercept_scaling': 1,\n",
       "   'loss': 'squared_hinge',\n",
       "   'max_iter': 200000,\n",
       "   'multi_class': 'ovr',\n",
       "   'penalty': 'l2',\n",
       "   'random_state': 42,\n",
       "   'tol': 0.0001,\n",
       "   'verbose': 0},\n",
       "  'dataset_name': 'mammographic_train',\n",
       "  'run_number': 1,\n",
       "  'data_hash': '30d925e88b3e900c0b618753fb5975917001526e',\n",
       "  'target_hash': '6302541ca7e5a33e32ae795c703bb59c4d1b4c16',\n",
       "  'start_time': 1542421418.378386,\n",
       "  'duration': 0.025784969329833984,\n",
       "  'model_hash': '3ca53311b1153ad1512b722e16eca1bba6425eb0'},\n",
       " 'gradientBoostingClassifier_mammographic_train_1': {'algorithm_name': 'gradientBoostingClassifier',\n",
       "  'algorithm_params': {'criterion': 'friedman_mse',\n",
       "   'init': None,\n",
       "   'learning_rate': 0.1,\n",
       "   'loss': 'deviance',\n",
       "   'max_depth': 3,\n",
       "   'max_features': None,\n",
       "   'max_leaf_nodes': None,\n",
       "   'min_impurity_decrease': 0.0,\n",
       "   'min_impurity_split': None,\n",
       "   'min_samples_leaf': 1,\n",
       "   'min_samples_split': 2,\n",
       "   'min_weight_fraction_leaf': 0.0,\n",
       "   'n_estimators': 100,\n",
       "   'n_iter_no_change': None,\n",
       "   'presort': 'auto',\n",
       "   'random_state': 42,\n",
       "   'subsample': 1.0,\n",
       "   'tol': 0.0001,\n",
       "   'validation_fraction': 0.1,\n",
       "   'verbose': 0,\n",
       "   'warm_start': False},\n",
       "  'dataset_name': 'mammographic_train',\n",
       "  'run_number': 1,\n",
       "  'data_hash': '30d925e88b3e900c0b618753fb5975917001526e',\n",
       "  'target_hash': '6302541ca7e5a33e32ae795c703bb59c4d1b4c16',\n",
       "  'start_time': 1542421418.410481,\n",
       "  'duration': 0.08843111991882324,\n",
       "  'model_hash': '21bfa1dc62ad2595dde34bbbafafcdad94aa12e7'},\n",
       " 'randomForestClassifier_mammographic_train_1': {'algorithm_name': 'randomForestClassifier',\n",
       "  'algorithm_params': {'bootstrap': True,\n",
       "   'class_weight': None,\n",
       "   'criterion': 'gini',\n",
       "   'max_depth': None,\n",
       "   'max_features': 'auto',\n",
       "   'max_leaf_nodes': None,\n",
       "   'min_impurity_decrease': 0.0,\n",
       "   'min_impurity_split': None,\n",
       "   'min_samples_leaf': 1,\n",
       "   'min_samples_split': 2,\n",
       "   'min_weight_fraction_leaf': 0.0,\n",
       "   'n_estimators': 10,\n",
       "   'n_jobs': None,\n",
       "   'oob_score': False,\n",
       "   'random_state': 42,\n",
       "   'verbose': 0,\n",
       "   'warm_start': False},\n",
       "  'dataset_name': 'mammographic_train',\n",
       "  'run_number': 1,\n",
       "  'data_hash': '30d925e88b3e900c0b618753fb5975917001526e',\n",
       "  'target_hash': '6302541ca7e5a33e32ae795c703bb59c4d1b4c16',\n",
       "  'start_time': 1542421418.6543272,\n",
       "  'duration': 0.01310586929321289,\n",
       "  'model_hash': '91fd592eca202963ce9e3a167ce6e5bb777971dc'}}"
      ]
     },
     "execution_count": 34,
     "metadata": {},
     "output_type": "execute_result"
    }
   ],
   "source": [
    "workflow.make_train()"
   ]
  },
  {
   "cell_type": "code",
   "execution_count": 35,
   "metadata": {},
   "outputs": [
    {
     "data": {
      "text/plain": [
       "['gradientBoostingClassifier_mammographic_train_1',\n",
       " 'linearSVC_mammographic_train_1',\n",
       " 'randomForestClassifier_mammographic_train_1']"
      ]
     },
     "execution_count": 35,
     "metadata": {},
     "output_type": "execute_result"
    }
   ],
   "source": [
    "workflow.available_models()"
   ]
  },
  {
   "cell_type": "code",
   "execution_count": 36,
   "metadata": {},
   "outputs": [
    {
     "data": {
      "text/plain": [
       "LinearSVC(C=1.0, class_weight=None, dual=True, fit_intercept=True,\n",
       "     intercept_scaling=1, loss='squared_hinge', max_iter=200000,\n",
       "     multi_class='ovr', penalty='l2', random_state=42, tol=0.0001,\n",
       "     verbose=0)"
      ]
     },
     "execution_count": 36,
     "metadata": {},
     "output_type": "execute_result"
    }
   ],
   "source": [
    "# load up the trained model\n",
    "from src.models.train import load_model\n",
    "\n",
    "tm, tm_metadata = load_model(model_name='linearSVC_mammographic_train_1')\n",
    "tm"
   ]
  },
  {
   "cell_type": "markdown",
   "metadata": {},
   "source": [
    "### Predicting Phonemes"
   ]
  },
  {
   "cell_type": "code",
   "execution_count": 37,
   "metadata": {},
   "outputs": [],
   "source": [
    "## Set up predictions using all of the available models\n",
    "for model in workflow.available_models():\n",
    "    workflow.add_prediction(\n",
    "        dataset_name = 'mammographic_test',\n",
    "        model_name = model,\n",
    "        is_supervised = True,\n",
    "        output_dataset = 'mammographic_test' + '_' + model\n",
    "    )"
   ]
  },
  {
   "cell_type": "code",
   "execution_count": 38,
   "metadata": {},
   "outputs": [
    {
     "data": {
      "text/plain": [
       "[{'dataset_name': 'mammographic_test',\n",
       "  'is_supervised': True,\n",
       "  'model_name': 'gradientBoostingClassifier_mammographic_train_1',\n",
       "  'output_dataset': 'mammographic_test_gradientBoostingClassifier_mammographic_train_1'},\n",
       " {'dataset_name': 'mammographic_test',\n",
       "  'is_supervised': True,\n",
       "  'model_name': 'linearSVC_mammographic_train_1',\n",
       "  'output_dataset': 'mammographic_test_linearSVC_mammographic_train_1'},\n",
       " {'dataset_name': 'mammographic_test',\n",
       "  'is_supervised': True,\n",
       "  'model_name': 'randomForestClassifier_mammographic_train_1',\n",
       "  'output_dataset': 'mammographic_test_randomForestClassifier_mammographic_train_1'}]"
      ]
     },
     "execution_count": 38,
     "metadata": {},
     "output_type": "execute_result"
    }
   ],
   "source": [
    "workflow.get_prediction_list()"
   ]
  },
  {
   "cell_type": "code",
   "execution_count": 39,
   "metadata": {},
   "outputs": [
    {
     "name": "stderr",
     "output_type": "stream",
     "text": [
      "2018-11-17 13:23:39,080 - predict - DEBUG - Predict: Applying gradientBoostingClassifier_mammographic_train_1 to mammographic_test\n",
      "2018-11-17 13:23:39,082 - predict - INFO - Experiment has already been run. Returning Cached Result\n",
      "2018-11-17 13:23:39,087 - predict - DEBUG - Predict: Applying linearSVC_mammographic_train_1 to mammographic_test\n",
      "2018-11-17 13:23:39,089 - predict - INFO - Experiment has already been run. Returning Cached Result\n",
      "2018-11-17 13:23:39,115 - predict - DEBUG - Predict: Applying randomForestClassifier_mammographic_train_1 to mammographic_test\n",
      "2018-11-17 13:23:39,117 - predict - INFO - Experiment has already been run. Returning Cached Result\n"
     ]
    },
    {
     "data": {
      "text/plain": [
       "{'mammographic_test_gradientBoostingClassifier_mammographic_train_1': {'dataset_name': 'mammographic_test_gradientBoostingClassifier_mammographic_train_1',\n",
       "  'hash_type': 'sha1',\n",
       "  'data_hash': 'fd417f4d3049afba88401907d2dfb489f0114da2',\n",
       "  'target_hash': '8e373abca080cbfc7e6be95259c97a3dd534fb10',\n",
       "  'experiment': {'model_name': 'gradientBoostingClassifier_mammographic_train_1',\n",
       "   'dataset_name': 'mammographic_test',\n",
       "   'run_number': 1,\n",
       "   'hash_type': 'sha1',\n",
       "   'input_data_hash': '42fb6529ee8448155ced11692e185627583afa25',\n",
       "   'input_target_hash': '8e373abca080cbfc7e6be95259c97a3dd534fb10',\n",
       "   'model_hash': 'e5bac7a292e23466c3528e2e9b7798877d1b3ba0',\n",
       "   'start_time': 1542420295.228299,\n",
       "   'duration': 0.0006542205810546875}},\n",
       " 'mammographic_test_linearSVC_mammographic_train_1': {'dataset_name': 'mammographic_test_linearSVC_mammographic_train_1',\n",
       "  'hash_type': 'sha1',\n",
       "  'data_hash': '4d7e7a3adc9e8924426b9579884abcdd8c202e77',\n",
       "  'target_hash': '8e373abca080cbfc7e6be95259c97a3dd534fb10',\n",
       "  'experiment': {'model_name': 'linearSVC_mammographic_train_1',\n",
       "   'dataset_name': 'mammographic_test',\n",
       "   'run_number': 1,\n",
       "   'hash_type': 'sha1',\n",
       "   'input_data_hash': '42fb6529ee8448155ced11692e185627583afa25',\n",
       "   'input_target_hash': '8e373abca080cbfc7e6be95259c97a3dd534fb10',\n",
       "   'model_hash': '3efb2d8e1c7f04bd13d90571e037be833ab5fe64',\n",
       "   'start_time': 1542420295.239537,\n",
       "   'duration': 0.0001881122589111328}},\n",
       " 'mammographic_test_randomForestClassifier_mammographic_train_1': {'dataset_name': 'mammographic_test_randomForestClassifier_mammographic_train_1',\n",
       "  'hash_type': 'sha1',\n",
       "  'data_hash': '654c330e28afac213bc97fa27312de14de5c7108',\n",
       "  'target_hash': '8e373abca080cbfc7e6be95259c97a3dd534fb10',\n",
       "  'experiment': {'model_name': 'randomForestClassifier_mammographic_train_1',\n",
       "   'dataset_name': 'mammographic_test',\n",
       "   'run_number': 1,\n",
       "   'hash_type': 'sha1',\n",
       "   'input_data_hash': '42fb6529ee8448155ced11692e185627583afa25',\n",
       "   'input_target_hash': '8e373abca080cbfc7e6be95259c97a3dd534fb10',\n",
       "   'model_hash': '91fd592eca202963ce9e3a167ce6e5bb777971dc',\n",
       "   'start_time': 1542420295.270912,\n",
       "   'duration': 0.003201007843017578}}}"
      ]
     },
     "execution_count": 39,
     "metadata": {},
     "output_type": "execute_result"
    }
   ],
   "source": [
    "workflow.make_predict()"
   ]
  },
  {
   "cell_type": "code",
   "execution_count": 40,
   "metadata": {},
   "outputs": [
    {
     "data": {
      "text/plain": [
       "['mammographic_test_gradientBoostingClassifier_mammographic_train_1',\n",
       " 'mammographic_test_linearSVC_mammographic_train_1',\n",
       " 'mammographic_test_randomForestClassifier_mammographic_train_1']"
      ]
     },
     "execution_count": 40,
     "metadata": {},
     "output_type": "execute_result"
    }
   ],
   "source": [
    "workflow.available_predictions()"
   ]
  },
  {
   "cell_type": "markdown",
   "metadata": {},
   "source": [
    "### Analyze the prediction and summary statistics"
   ]
  },
  {
   "cell_type": "code",
   "execution_count": 41,
   "metadata": {},
   "outputs": [],
   "source": [
    "from src.paths import summary_path"
   ]
  },
  {
   "cell_type": "code",
   "execution_count": 42,
   "metadata": {},
   "outputs": [
    {
     "data": {
      "text/plain": [
       "['accuracy_score']"
      ]
     },
     "execution_count": 42,
     "metadata": {},
     "output_type": "execute_result"
    }
   ],
   "source": [
    "workflow.available_scorers()"
   ]
  },
  {
   "cell_type": "code",
   "execution_count": 43,
   "metadata": {},
   "outputs": [
    {
     "data": {
      "text/plain": [
       "['score_predictions']"
      ]
     },
     "execution_count": 43,
     "metadata": {},
     "output_type": "execute_result"
    }
   ],
   "source": [
    "workflow.available_analyses()"
   ]
  },
  {
   "cell_type": "code",
   "execution_count": 44,
   "metadata": {},
   "outputs": [
    {
     "data": {
      "text/plain": [
       "[{'analysis_name': 'score_predictions', 'analysis_params': {}}]"
      ]
     },
     "execution_count": 44,
     "metadata": {},
     "output_type": "execute_result"
    }
   ],
   "source": [
    "workflow.add_analysis(analysis_name='score_predictions')\n",
    "workflow.get_analysis_list()"
   ]
  },
  {
   "cell_type": "code",
   "execution_count": 45,
   "metadata": {},
   "outputs": [
    {
     "name": "stderr",
     "output_type": "stream",
     "text": [
      "2018-11-17 13:23:39,447 - analysis - INFO - Performing Analysis: score_predictions\n",
      "2018-11-17 13:23:39,453 - analysis - INFO - Scoring: Applying accuracy_score to mammographic_test_gradientBoostingClassifier_mammographic_train_1\n",
      "2018-11-17 13:23:39,460 - analysis - INFO - Scoring: Applying accuracy_score to mammographic_test_linearSVC_mammographic_train_1\n",
      "2018-11-17 13:23:39,467 - analysis - INFO - Scoring: Applying accuracy_score to mammographic_test_randomForestClassifier_mammographic_train_1\n",
      "2018-11-17 13:23:39,474 - analysis - INFO - Writing Analysis to score_predictions.csv\n"
     ]
    },
    {
     "data": {
      "text/plain": [
       "{'score_predictions.csv': {'analysis_name': 'score_predictions',\n",
       "  'analysis_params': {'predictions_list': ['mammographic_test_gradientBoostingClassifier_mammographic_train_1',\n",
       "    'mammographic_test_linearSVC_mammographic_train_1',\n",
       "    'mammographic_test_randomForestClassifier_mammographic_train_1'],\n",
       "   'score_list': ['accuracy_score']}}}"
      ]
     },
     "execution_count": 45,
     "metadata": {},
     "output_type": "execute_result"
    }
   ],
   "source": [
    "workflow.make_analysis()"
   ]
  },
  {
   "cell_type": "code",
   "execution_count": 46,
   "metadata": {},
   "outputs": [
    {
     "data": {
      "text/html": [
       "<div>\n",
       "<style scoped>\n",
       "    .dataframe tbody tr th:only-of-type {\n",
       "        vertical-align: middle;\n",
       "    }\n",
       "\n",
       "    .dataframe tbody tr th {\n",
       "        vertical-align: top;\n",
       "    }\n",
       "\n",
       "    .dataframe thead th {\n",
       "        text-align: right;\n",
       "    }\n",
       "</style>\n",
       "<table border=\"1\" class=\"dataframe\">\n",
       "  <thead>\n",
       "    <tr style=\"text-align: right;\">\n",
       "      <th></th>\n",
       "      <th>algorithm_name</th>\n",
       "      <th>dataset_name</th>\n",
       "      <th>model_name</th>\n",
       "      <th>run_number</th>\n",
       "      <th>score</th>\n",
       "      <th>score_name</th>\n",
       "    </tr>\n",
       "  </thead>\n",
       "  <tbody>\n",
       "    <tr>\n",
       "      <th>0</th>\n",
       "      <td>gradientBoostingClassifier</td>\n",
       "      <td>mammographic_test</td>\n",
       "      <td>gradientBoostingClassifier_mammographic_train_1</td>\n",
       "      <td>1</td>\n",
       "      <td>0.750000</td>\n",
       "      <td>accuracy_score</td>\n",
       "    </tr>\n",
       "    <tr>\n",
       "      <th>1</th>\n",
       "      <td>linearSVC</td>\n",
       "      <td>mammographic_test</td>\n",
       "      <td>linearSVC_mammographic_train_1</td>\n",
       "      <td>1</td>\n",
       "      <td>0.774038</td>\n",
       "      <td>accuracy_score</td>\n",
       "    </tr>\n",
       "    <tr>\n",
       "      <th>2</th>\n",
       "      <td>randomForestClassifier</td>\n",
       "      <td>mammographic_test</td>\n",
       "      <td>randomForestClassifier_mammographic_train_1</td>\n",
       "      <td>1</td>\n",
       "      <td>0.750000</td>\n",
       "      <td>accuracy_score</td>\n",
       "    </tr>\n",
       "  </tbody>\n",
       "</table>\n",
       "</div>"
      ],
      "text/plain": [
       "               algorithm_name       dataset_name  \\\n",
       "0  gradientBoostingClassifier  mammographic_test   \n",
       "1                   linearSVC  mammographic_test   \n",
       "2      randomForestClassifier  mammographic_test   \n",
       "\n",
       "                                        model_name  run_number     score  \\\n",
       "0  gradientBoostingClassifier_mammographic_train_1           1  0.750000   \n",
       "1                   linearSVC_mammographic_train_1           1  0.774038   \n",
       "2      randomForestClassifier_mammographic_train_1           1  0.750000   \n",
       "\n",
       "       score_name  \n",
       "0  accuracy_score  \n",
       "1  accuracy_score  \n",
       "2  accuracy_score  "
      ]
     },
     "execution_count": 46,
     "metadata": {},
     "output_type": "execute_result"
    }
   ],
   "source": [
    "df = pd.read_csv(summary_path / 'score_predictions.csv')\n",
    "df"
   ]
  },
  {
   "cell_type": "code",
   "execution_count": null,
   "metadata": {},
   "outputs": [],
   "source": []
  },
  {
   "cell_type": "code",
   "execution_count": null,
   "metadata": {},
   "outputs": [],
   "source": []
  }
 ],
 "metadata": {
  "kernelspec": {
   "display_name": "Python 3",
   "language": "python",
   "name": "python3"
  },
  "language_info": {
   "codemirror_mode": {
    "name": "ipython",
    "version": 3
   },
   "file_extension": ".py",
   "mimetype": "text/x-python",
   "name": "python",
   "nbconvert_exporter": "python",
   "pygments_lexer": "ipython3",
   "version": "3.7.1"
  }
 },
 "nbformat": 4,
 "nbformat_minor": 2
}
